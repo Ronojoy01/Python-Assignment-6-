{
 "cells": [
  {
   "cell_type": "markdown",
   "id": "440d6383",
   "metadata": {},
   "source": [
    "ASSIGNMENT 6"
   ]
  },
  {
   "cell_type": "raw",
   "id": "fe495f9d",
   "metadata": {},
   "source": [
    "1. What are escape characters, and how do you use them?\n",
    "Ans - The backslash \"\\\" is called the escape character.It is used in representing certain whitespace characters: \"\\t\" is a tab, \"\\n\" is a newline, and \"\\r\" is a carriage return."
   ]
  },
  {
   "cell_type": "raw",
   "id": "3f432ae6",
   "metadata": {},
   "source": [
    "2. What do the escape characters n and t stand for?\n",
    "Ans - Escape character n stands for newline and escape character t stand for tab."
   ]
  },
  {
   "cell_type": "raw",
   "id": "07ddeb51",
   "metadata": {},
   "source": [
    "3.What is the way to include backslash characters in a string?\n",
    "Ans - To insert characters that are illegal in a string, use an escape character. An escape character is a backslash \\ followed by the character you want to insert."
   ]
  },
  {
   "cell_type": "raw",
   "id": "75709180",
   "metadata": {},
   "source": [
    "4. The string \"Howl's Moving Castle\" is a correct value. Why isn't the single quote character in the word Howl's not escaped a problem?\n",
    "Ans - The single quote in Howl's is fine because we have used double quotes to mark the beginning and end of the string."
   ]
  },
  {
   "cell_type": "raw",
   "id": "1656eacc",
   "metadata": {},
   "source": [
    "5.5. How do you write a string of newlines if you don't want to use the n character?\n",
    "Ans - Just use \\n ; Python automatically translates that to the proper newline character for your platform."
   ]
  },
  {
   "cell_type": "raw",
   "id": "7daab257",
   "metadata": {},
   "source": [
    "6. What are the values of the given expressions?\n",
    "'Hello, world!'[1]\n",
    "'Hello, world!'[0:5]\n",
    "'Hello, world!'[:5]\n",
    "'Hello, world!'[3:]\n",
    "Ans - The expression evaluate:\n",
    "\n",
    "      'e'\n",
    "\n",
    "      'Hello'\n",
    "\n",
    "      'Hello'\n",
    "\n",
    "     'lo world!"
   ]
  },
  {
   "cell_type": "raw",
   "id": "b740158d",
   "metadata": {},
   "source": [
    "7. What are the values of the following expressions?\n",
    "'Hello'.upper()\n",
    "'Hello'.upper().isupper()\n",
    "'Hello'.upper().lower()\n",
    "\n",
    "Ans - 'HELLO'\n",
    "       True\n",
    "      'hello'\n",
    "      \n",
    "       \n",
    "       \n",
    "        "
   ]
  },
  {
   "cell_type": "code",
   "execution_count": 3,
   "id": "9d015534",
   "metadata": {},
   "outputs": [
    {
     "data": {
      "text/plain": [
       "True"
      ]
     },
     "execution_count": 3,
     "metadata": {},
     "output_type": "execute_result"
    }
   ],
   "source": [
    "'Hello'.upper().isupper()"
   ]
  },
  {
   "cell_type": "code",
   "execution_count": 4,
   "id": "c0669d33",
   "metadata": {},
   "outputs": [
    {
     "data": {
      "text/plain": [
       "'hello'"
      ]
     },
     "execution_count": 4,
     "metadata": {},
     "output_type": "execute_result"
    }
   ],
   "source": [
    "'Hello'.upper().lower()"
   ]
  },
  {
   "cell_type": "raw",
   "id": "c17befed",
   "metadata": {},
   "source": [
    "8. What are the values of the following expressions?\n",
    "'Remember, remember, the fifth of July.'.split()\n",
    "'-'.join('There can only one.'.split())\n",
    "\n",
    "Ans - ['Remember,', 'remember,', 'the', 'fifth', 'of', 'July.']\n",
    "      'There-can-only-one.'"
   ]
  },
  {
   "cell_type": "raw",
   "id": "aa3d06d0",
   "metadata": {},
   "source": [
    "9. What are the methods for right-justifying, left-justifying, and centering a string?\n",
    "Ans - rjust(), ljust(), center()"
   ]
  },
  {
   "cell_type": "raw",
   "id": "7ebff3ea",
   "metadata": {},
   "source": [
    "10. What is the best way to remove whitespace characters from the start or end?\n",
    "Ans - strip() function helps to remove whitespace from start or end."
   ]
  },
  {
   "cell_type": "code",
   "execution_count": 11,
   "id": "0c553c3f",
   "metadata": {},
   "outputs": [
    {
     "data": {
      "text/plain": [
       "'Hello World'"
      ]
     },
     "execution_count": 11,
     "metadata": {},
     "output_type": "execute_result"
    }
   ],
   "source": [
    "a = \"         Hello World    \"\n",
    "a.strip()"
   ]
  },
  {
   "cell_type": "code",
   "execution_count": null,
   "id": "b45f8e53",
   "metadata": {},
   "outputs": [],
   "source": []
  }
 ],
 "metadata": {
  "kernelspec": {
   "display_name": "Python 3 (ipykernel)",
   "language": "python",
   "name": "python3"
  },
  "language_info": {
   "codemirror_mode": {
    "name": "ipython",
    "version": 3
   },
   "file_extension": ".py",
   "mimetype": "text/x-python",
   "name": "python",
   "nbconvert_exporter": "python",
   "pygments_lexer": "ipython3",
   "version": "3.9.7"
  }
 },
 "nbformat": 4,
 "nbformat_minor": 5
}
